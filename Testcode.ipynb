# This is a test code file
config = {"Holder":"SCZ", "Python Version":3}
print(config)
